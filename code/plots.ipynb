{
 "cells": [
  {
   "cell_type": "code",
   "execution_count": null,
   "metadata": {},
   "outputs": [],
   "source": [
    "import os \n",
    "import pandas\n",
    "\n",
    "files = [ f for f in os.listdir( os.curdir ) if os.path.isfile(f) ]\n",
    "files = [ f for f in files if f.__contains__('.txt')]"
   ]
  },
  {
   "cell_type": "code",
   "execution_count": null,
   "metadata": {},
   "outputs": [],
   "source": [
    "versions = ['V1','V2.1','V0']\n",
    "\n",
    "#files_v0 = [f for f in files if not f.__contains__(versions[0]) and not f.__contains__(versions[1])]\n",
    "files_v0 = [f for f in files if f.__contains__(versions[2]) ]\n",
    "files_v1 = [f for f in files if f.__contains__(versions[0])]\n",
    "files_v2 = [f for f in files if f.__contains__(versions[1])]\n",
    "#files_v0"
   ]
  },
  {
   "cell_type": "code",
   "execution_count": null,
   "metadata": {},
   "outputs": [],
   "source": [
    "import json\n",
    "\n",
    "def get_rows(files=files_v0):\n",
    "    rows = []\n",
    "    for file in files:\n",
    "        f = open(file)\n",
    "        data = json.load(f)\n",
    "        n_iterations = 30\n",
    "        if file.__contains__('Iteraciones'):\n",
    "            n_iterations = int(file.split('Iteraciones')[1].split('.')[0].replace('-',''))\n",
    "\n",
    "        rows.append([data['filename'],n_iterations,data['numero_de_particulas'],data['valor_minimo'],data['valor medio'],data['tiempo medio']])\n",
    "\n",
    "    rows.sort()\n",
    "    return rows\n",
    "\n"
   ]
  },
  {
   "cell_type": "code",
   "execution_count": null,
   "metadata": {},
   "outputs": [],
   "source": [
    "rows = get_rows()\n",
    "df = pandas.DataFrame(rows, columns =['FName', 'NIteraciones', 'NParticulas','ValorMin','ValorMed','TiempoMed'], dtype = float)\n",
    "df.to_csv(f'Output-V0.csv')\n",
    "df"
   ]
  },
  {
   "cell_type": "code",
   "execution_count": null,
   "metadata": {},
   "outputs": [],
   "source": [
    "rows1 = get_rows(files_v1)\n",
    "df1 = pandas.DataFrame(rows1, columns =['FName', 'NIteraciones', 'NParticulas','ValorMin','ValorMed','TiempoMed'], dtype = float)\n",
    "df1.to_csv(f'Output-V1.csv')\n",
    "df1"
   ]
  },
  {
   "cell_type": "code",
   "execution_count": null,
   "metadata": {},
   "outputs": [],
   "source": [
    "rows2 = get_rows(files_v2)\n",
    "df2 = pandas.DataFrame(rows2, columns =['FName', 'NIteraciones', 'NParticulas','ValorMin','ValorMed','TiempoMed'], dtype = float)\n",
    "df2.to_csv(f'Output-V2.csv')\n",
    "df2"
   ]
  },
  {
   "cell_type": "code",
   "execution_count": null,
   "metadata": {},
   "outputs": [],
   "source": [
    "import matplotlib.pyplot as plt \n",
    "optimos = [784,742,937,1177,1764]"
   ]
  },
  {
   "cell_type": "code",
   "execution_count": null,
   "metadata": {},
   "outputs": [],
   "source": [
    "def get_plot_row(file):\n",
    "       \n",
    "    f = open(file)\n",
    "    data = json.load(f)\n",
    "    _min = data['valor_minimo']\n",
    "    _best = data['todos_best']\n",
    "    return [x for x in _best if x[len(x)-1] == _min][0]\n",
    "    "
   ]
  },
  {
   "cell_type": "code",
   "execution_count": null,
   "metadata": {},
   "outputs": [],
   "source": [
    "def _plot(files,names,_min):\n",
    "    rows = []\n",
    "    for file in files:\n",
    "        rows.append(get_plot_row(file))\n",
    "    \n",
    "    _min_row = [_min] * 30\n",
    "    plt.plot(_min_row,'r--',rows[0],'y',rows[1],'b',rows[2],'g')\n",
    "    plt.legend(names, loc =\"right\")\n"
   ]
  },
  {
   "cell_type": "code",
   "execution_count": null,
   "metadata": {},
   "outputs": [],
   "source": [
    "\n",
    "\n",
    "#files = ['A-n32-k5-SolInfo.txt','V1-A-n32-k5-SolInfo-100000-Iteraciones-30.txt','V2-A-n32-k5-SolInfo-100000-Iteraciones-30.txt']\n",
    "files = ['V0-A-n32-k5-SolInfo-100000-Iteraciones-30.txt']\n",
    "\n",
    "# rows = []\n",
    "# for file in files:\n",
    "#     f = open(file)\n",
    "#     data = json.load(f)\n",
    "#     _min = data['valor_minimo']\n",
    "#     _best = data['todos_best']\n",
    "#     _path = [x for x in _best if x[len(x)-1] == _min][0]\n",
    "#     #print(_path)\n",
    "#     rows.append(_path)\n",
    "\n",
    "# _min0 = [784] * 30\n",
    "\n",
    "# #plt.clear()\n",
    "# #plt.plot(_min0,'r--',rows[0],'y',rows[1],'g',rows[2],'b')\n",
    "# plt.plot(_min0,'r--',rows[0],'y')\n",
    "# #print(len(rows[0]))\n",
    "\n",
    "\n"
   ]
  },
  {
   "cell_type": "code",
   "execution_count": null,
   "metadata": {},
   "outputs": [],
   "source": [
    "#files = ['A-n44-k6-SolInfo.txt','V1-A-n44-k6-SolInfo-100000-Iteraciones-30.txt','V2-A-n44-k6-SolInfo-100000-Iteraciones-30.txt']\n",
    "files = ['V0-A-n33-k6-SolInfo-100000-Iteraciones-30.txt']\n",
    "\n",
    "rows = []\n",
    "for file in files:\n",
    "    f = open(file)\n",
    "    data = json.load(f)\n",
    "    _min = data['valor_minimo']\n",
    "    _best = data['todos_best']\n",
    "    _path = [x for x in _best if x[len(x)-1] == _min][0]\n",
    "    #print(_path)\n",
    "    rows.append(_path)\n",
    "\n",
    "_min0 = [742] * 32\n",
    "\n",
    "#plt.clear()\n",
    "#plt.plot(_min0,'r--',rows[0],'y',rows[1],'g',rows[2],'b')\n",
    "plt.plot(_min0,'r--',rows[0],'y')"
   ]
  },
  {
   "cell_type": "code",
   "execution_count": null,
   "metadata": {},
   "outputs": [],
   "source": [
    "#files = ['A-n44-k6-SolInfo.txt','V1-A-n44-k6-SolInfo-100000-Iteraciones-30.txt','V2-A-n44-k6-SolInfo-100000-Iteraciones-30.txt']\n",
    "files = ['V0-A-n44-k6-SolInfo-100000-Iteraciones-30.txt']\n",
    "\n",
    "rows = []\n",
    "for file in files:\n",
    "    f = open(file)\n",
    "    data = json.load(f)\n",
    "    _min = data['valor_minimo']\n",
    "    _best = data['todos_best']\n",
    "    _path = [x for x in _best if x[len(x)-1] == _min][0]\n",
    "    #print(_path)\n",
    "    rows.append(_path)\n",
    "\n",
    "_min0 = [937] * 32\n",
    "\n",
    "#plt.clear()\n",
    "#plt.plot(_min0,'r--',rows[0],'y',rows[1],'g',rows[2],'b')\n",
    "plt.plot(_min0,'r--',rows[0],'y')"
   ]
  },
  {
   "cell_type": "code",
   "execution_count": null,
   "metadata": {},
   "outputs": [],
   "source": [
    "#files = ['A-n44-k6-SolInfo.txt','V1-A-n44-k6-SolInfo-100000-Iteraciones-30.txt','V2-A-n44-k6-SolInfo-100000-Iteraciones-30.txt']\n",
    "files = ['V0-A-n65-k9-SolInfo-100000-Iteraciones-30.txt']\n",
    "\n",
    "rows = []\n",
    "for file in files:\n",
    "    f = open(file)\n",
    "    data = json.load(f)\n",
    "    _min = data['valor_minimo']\n",
    "    _best = data['todos_best']\n",
    "    _path = [x for x in _best if x[len(x)-1] == _min][0]\n",
    "    #print(_path)\n",
    "    rows.append(_path)\n",
    "\n",
    "_min0 = [1177] * 32\n",
    "\n",
    "#plt.clear()\n",
    "#plt.plot(_min0,'r--',rows[0],'y',rows[1],'g',rows[2],'b')\n",
    "plt.plot(_min0,'r--',rows[0],'y')"
   ]
  },
  {
   "cell_type": "code",
   "execution_count": null,
   "metadata": {},
   "outputs": [],
   "source": [
    "#files = ['A-n44-k6-SolInfo.txt','V1-A-n44-k6-SolInfo-100000-Iteraciones-30.txt','V2-A-n44-k6-SolInfo-100000-Iteraciones-30.txt']\n",
    "files = ['V0-A-n80-k10-SolInfo-100000-Iteraciones-30.txt']\n",
    "\n",
    "rows = []\n",
    "for file in files:\n",
    "    f = open(file)\n",
    "    data = json.load(f)\n",
    "    _min = data['valor_minimo']\n",
    "    _best = data['todos_best']\n",
    "    _path = [x for x in _best if x[len(x)-1] == _min][0]\n",
    "    #print(_path)\n",
    "    rows.append(_path)\n",
    "\n",
    "_min0 = [1764] * 32\n",
    "\n",
    "#plt.clear()\n",
    "#plt.plot(_min0,'r--',rows[0],'y',rows[1],'g',rows[2],'b')\n",
    "plt.plot(_min0,'r--',rows[0],'y')"
   ]
  },
  {
   "cell_type": "code",
   "execution_count": null,
   "metadata": {},
   "outputs": [],
   "source": [
    "files_test = [f for f in files if not f.__contains__('V0') and not f.__contains__('V1') and not f.__contains__('V2')]\n",
    "files_test = [f for f in files if  f.__contains__('V1') ]\n",
    "\n",
    "for file in files_test:\n",
    "    _customer = int(file.split('-')[2][1:]) - 1\n",
    "    #print(_customer)\n",
    "    #_customer = int(file.split('-')[1][1:]) - 1\n",
    "    f = open(file)\n",
    "    data = json.load(f)\n",
    "    _min = data['solucion']\n",
    "    if len(_min) != _customer:\n",
    "        print(_min)\n",
    "        input()\n",
    "        break\n",
    "    else :\n",
    "        for x in range(2,_customer+1):\n",
    "            if x not in _min:\n",
    "                print(_min)\n",
    "                input()\n",
    "                break\n",
    "        \n",
    "\n",
    "print('OK')\n"
   ]
  },
  {
   "cell_type": "code",
   "execution_count": null,
   "metadata": {},
   "outputs": [],
   "source": [
    "import math\n",
    "def readdata(name_of_file):\n",
    "    a1=open(name_of_file,'r')\n",
    "    #reading content of a1 and storing in a2\n",
    "    a2=a1.read()\n",
    "    #splitting contents in a2 into list from where newline is started\n",
    "    a2=a2.split('\\n')\n",
    "    #For reading number of customers, splitting values in third index of a2 list into new list\n",
    "    print(a2[3])\n",
    "    temp_customer=a2[3].split()\n",
    "    #converting a list value to integer which gives total customers \n",
    "    no_of_customers=int(temp_customer[2])\n",
    "    #reading vehicle capacity which is in five index of list b2\n",
    "    temp_capacity=a2[5].split()\n",
    "    vehicle_total_capacity=int(temp_capacity[2])\n",
    "\n",
    "    a1.close()\n",
    "    length = no_of_customers\n",
    "    #initializing array matrices of demand of customers, X coordinate , Y coordinate using compact for loop\n",
    "    x=[0 for j in range(no_of_customers)]\n",
    "    y=[0 for j in range(no_of_customers)]\n",
    "    customer_demand = [0 for j in range(length)]\n",
    "    #-----------reading values of x,y nodes of customers as well as their demand by splitting into lists from the respective indices of their start-----\n",
    "    for j in range(0, length):\n",
    "        x_y_values = a2[j+7].split()\n",
    "        customer_demand[j] = int(float( a2[no_of_customers + 8 + j].split()[1] ))\n",
    "        x[j] = int(float(x_y_values[1]))\n",
    "        y[j] = int(float(x_y_values[2]))\n",
    "\n",
    "    #------------------------------[calculating distance between nodes and computing the distance matrix]--------------------------------------------\n",
    "        \n",
    "    #initializing 2-d distance matrix that computes distance between customers and customer & depot\n",
    "    matrix_distance=[[0 for i in range(no_of_customers)] for j in range(no_of_customers)]\n",
    "    for i in range(no_of_customers):\n",
    "        for j in range(no_of_customers):\n",
    "            if i==j:\n",
    "                matrix_distance[i][j]=0\n",
    "            elif i>j:     #since this matrix is symmetrical\n",
    "                matrix_distance[i][j]=matrix_distance[j][i]\n",
    "            else:\n",
    "                matrix_distance[i][j]=math.sqrt((x[j]-x[i])**2+(y[j]-y[i])**2)\n",
    "\n",
    "    return vehicle_total_capacity, no_of_customers-1, matrix_distance,customer_demand, x, y\n",
    "\n",
    "file = 'A-n32-k5.vrp'\n",
    "capacity_of_vehicle, total_customers, distance_matrix, demand_matrix, _, _ = readdata(file)\n",
    "total_customers"
   ]
  }
 ],
 "metadata": {
  "kernelspec": {
   "display_name": "Python 3.10.3 64-bit",
   "language": "python",
   "name": "python3"
  },
  "language_info": {
   "codemirror_mode": {
    "name": "ipython",
    "version": 3
   },
   "file_extension": ".py",
   "mimetype": "text/x-python",
   "name": "python",
   "nbconvert_exporter": "python",
   "pygments_lexer": "ipython3",
   "version": "3.10.3"
  },
  "orig_nbformat": 4,
  "vscode": {
   "interpreter": {
    "hash": "369f2c481f4da34e4445cda3fffd2e751bd1c4d706f27375911949ba6bb62e1c"
   }
  }
 },
 "nbformat": 4,
 "nbformat_minor": 2
}
